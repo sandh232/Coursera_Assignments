{
    "nbformat_minor": 1, 
    "cells": [
        {
            "source": "# My Jupyter Notebook on IBM Data Science Experience", 
            "cell_type": "markdown", 
            "metadata": {
                "collapsed": true
            }
        }, 
        {
            "source": "**Manpreet Sandhu**", 
            "cell_type": "markdown", 
            "metadata": {}
        }, 
        {
            "source": "*I'm interested in data science because a data scientist who analyzes and interprets complex digital data and data science is a blend of various tools, algorithms, and machine learning principles with the goal to discover hidden pattern from raw data. So, I love to do that.*", 
            "cell_type": "markdown", 
            "metadata": {}
        }, 
        {
            "source": "### I love Data Science ###", 
            "cell_type": "markdown", 
            "metadata": {}
        }, 
        {
            "execution_count": 2, 
            "cell_type": "code", 
            "metadata": {}, 
            "outputs": [
                {
                    "execution_count": 2, 
                    "metadata": {}, 
                    "data": {
                        "text/plain": "2"
                    }, 
                    "output_type": "execute_result"
                }
            ], 
            "source": "1+1"
        }, 
        {
            "source": "[I'm an inline-style link](https://www.google.com)", 
            "cell_type": "markdown", 
            "metadata": {}
        }, 
        {
            "source": "> Blockquotes are very handy in email to emulate reply text.", 
            "cell_type": "markdown", 
            "metadata": {}
        }, 
        {
            "source": "Three or more...\n\n---\n\nHyphens\n\n***\n\nAsterisks\n\n___\n\nUnderscores", 
            "cell_type": "markdown", 
            "metadata": {}
        }, 
        {
            "source": "Inline-style: \n![alt text](https://github.com/adam-p/markdown-here/raw/master/src/common/images/icon48.png \"Logo Title Text 1\")", 
            "cell_type": "markdown", 
            "metadata": {}
        }, 
        {
            "execution_count": null, 
            "cell_type": "code", 
            "metadata": {}, 
            "outputs": [], 
            "source": ""
        }
    ], 
    "metadata": {
        "kernelspec": {
            "display_name": "Python 3.6", 
            "name": "python3", 
            "language": "python"
        }, 
        "language_info": {
            "mimetype": "text/x-python", 
            "nbconvert_exporter": "python", 
            "version": "3.6.8", 
            "name": "python", 
            "file_extension": ".py", 
            "pygments_lexer": "ipython3", 
            "codemirror_mode": {
                "version": 3, 
                "name": "ipython"
            }
        }
    }, 
    "nbformat": 4
}